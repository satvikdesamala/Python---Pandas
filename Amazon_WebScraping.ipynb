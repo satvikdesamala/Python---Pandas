{
 "cells": [
  {
   "cell_type": "markdown",
   "id": "4ba26920-6536-47cd-b9df-ecd25b10970f",
   "metadata": {},
   "source": [
    "# import libraries"
   ]
  },
  {
   "cell_type": "code",
   "execution_count": 20,
   "id": "2ce20b3b-91bd-431c-9193-cf0aecf555c4",
   "metadata": {},
   "outputs": [],
   "source": [
    "from bs4 import BeautifulSoup\n",
    "import requests\n",
    "import time\n",
    "import datetime\n",
    "\n",
    "# to send the emails\n",
    "import smtplib"
   ]
  },
  {
   "cell_type": "markdown",
   "id": "185a7713-ea75-4c41-8e16-870c3cb7530e",
   "metadata": {},
   "source": [
    "# navigate to amazon"
   ]
  },
  {
   "cell_type": "code",
   "execution_count": 32,
   "id": "8e594dd3-5475-4fcf-bea9-b681d0221fc6",
   "metadata": {},
   "outputs": [
    {
     "name": "stdout",
     "output_type": "stream",
     "text": [
      "<Response [200]>\n",
      "\n",
      "                               Starbucks Corp\n",
      "                              \n",
      "\n",
      "                                94.52\n",
      "                               \n",
      "Starbucks Corp\n",
      "94.52\n"
     ]
    },
    {
     "data": {
      "text/plain": [
       "str"
      ]
     },
     "execution_count": 32,
     "metadata": {},
     "output_type": "execute_result"
    }
   ],
   "source": [
    "url = 'https://www.google.com/search?q=share+price+of+starbucks&sca_esv=41437dda0f3602d3&sxsrf=ACQVn0-njL7Sy1MRIyCtBaGl56w3Ha8dYg%3A1706644688757&ei=0FS5ZcPXLYa5qtsPtceK6A4&oq=share+prc&gs_lp=Egxnd3Mtd2l6LXNlcnAiCXNoYXJlIHByYyoCCAAyDxAAGIAEGIoFGEMYRhj6ATIKEAAYgAQYChixAzINEAAYgAQYChixAxiDATINEAAYgAQYChixAxiDATINEAAYgAQYChixAxiDATINEAAYgAQYChixAxiDATINEAAYgAQYChixAxiDATIHEAAYgAQYCjIHEAAYgAQYCjINEAAYgAQYChixAxiDATIbEAAYgAQYigUYQxhGGPoBGJcFGIwFGN0E2AEDSIZXUABY1jxwCXgBkAEAmAFxoAHXCqoBBDE0LjK4AQHIAQD4AQGoAhDCAgoQIxiABBiKBRgnwgITEC4YgAQYigUYxwEYrwEYjgUYJ8ICFxAuGIAEGIoFGJECGLEDGIMBGMcBGNEDwgILEAAYgAQYigUYkQLCAggQABiABBixA8ICERAuGIAEGIoFGLEDGIMBGNQCwgIFEAAYgATCAgsQLhiABBjHARjRA8ICFhAuGEMYxwEY1AIYsQMY0QMYgAQYigXCAg4QLhiABBixAxiDARjUAsICEBAuGIAEGIoFGEMYsQMYgwHCAgoQABiABBiKBRhDwgIKEC4YgAQYigUYQ8ICERAuGIAEGLEDGIMBGMcBGNEDwgIlEC4YQxjHARjUAhixAxjRAxiABBiKBRiXBRjcBBjeBBjgBNgBAcICEBAuGIAEGIoFGEMYxwEY0QPCAgsQLhiABBjHARivAcICCBAuGIAEGLEDwgIOEC4YgAQYigUYsQMYgwHCAhkQLhiABBiKBRhDGJcFGNwEGN4EGOAE2AEBwgIOEC4YrwEYxwEYsQMYgATCAgsQLhiDARixAxiABMICCxAuGK8BGMcBGIAEwgILEC4YgAQYsQMYgwHCAh0QLhivARjHARixAxiABBiXBRjcBBjeBBjgBNgBAcICDRAuGMcBGNEDGOoCGCfCAgcQIxjqAhgnwgIQEC4YxwEYrwEYjgUY6gIYJ8ICHBAuGIAEGIoFGEMYxwEY0QMYyAMY6gIYtALYAQLCAh8QLhiABBiKBRhDGMcBGNEDGNQCGMgDGOoCGLQC2AECwgIZEC4YgAQYigUYQxjUAhjIAxjqAhi0AtgBAsICEBAuGMcBGNEDGIAEGIoFGCfCAgsQABiABBixAxiDAcICHRAuGMcBGNEDGIAEGIoFGJcFGNwEGN4EGOAE2AEBwgIWEC4YgAQYigUYQxixAxiDARjHARjRA8ICDhAuGIAEGLEDGMcBGNEDwgIFEC4YgATCAhYQLhiABBiKBRhDGLEDGMkDGMcBGNEDwgILEAAYgAQYigUYkgPCAiUQLhiABBiKBRhDGLEDGMkDGMcBGNEDGJcFGNwEGN4EGOAE2AEBwgINEAAYgAQYigUYQxixA8ICEBAAGIAEGIoFGEMYsQMYgwHCAg4QLhiABBjHARivARiOBeIDBBgAIEG6BgYIARABGBS6BgYIAhABGAi6BgYIAxABGBM&sclient=gws-wiz-serp'\n",
    "\n",
    "# headers --> User-Agent is required to make a successful api call. \n",
    "# get the user-agent from https://httpbin.org/get\n",
    "# only replace user-agent from the below line\n",
    "headers = {\"User-Agent\": \"Mozilla/5.0 (Windows NT 10.0; Win64; x64) AppleWebKit/537.36 (KHTML, like Gecko) Chrome/121.0.0.0 Safari/537.36\", \"Accept-Encoding\":\"gzip, deflate\", \"Accept\":\"text/html,application/xhtml+xml,application/xml;q=0.9,*/*;q=0.8\", \"DNT\":\"1\",\"Connection\":\"close\", \"Upgrade-Insecure-Requests\":\"1\"}\n",
    "\n",
    "page = requests.get(url, headers=headers)\n",
    "print(page)\n",
    "soup1 = BeautifulSoup(page.content, \"html.parser\")\n",
    "# print(soup1)\n",
    "\n",
    "soup2 = BeautifulSoup(soup1.prettify(), \"html.parser\")\n",
    "# print(soup2)\n",
    "\n",
    "# title = soup2.find('span', class_ =\"aMEhee PZPZlf\").get_text()\n",
    "title = soup2.find('span', attrs={\"data-attrid\": \"Company Name\"}).get_text()\n",
    "print(title)\n",
    "\n",
    "price = soup2.find('span', attrs={\"class\": \"IsqQVc NprOob wT3VGc\"}).get_text()\n",
    "print(price)\n",
    "\n",
    "title = title.strip()\n",
    "price = price.strip()\n",
    "print(title)\n",
    "print(price)\n",
    "\n",
    "type(title)\n",
    "\n"
   ]
  },
  {
   "cell_type": "markdown",
   "id": "a7d00ce4",
   "metadata": {},
   "source": [
    "# Capture date"
   ]
  },
  {
   "cell_type": "code",
   "execution_count": null,
   "id": "f4b510e9",
   "metadata": {},
   "outputs": [],
   "source": [
    "today = datetime.date.today()\n",
    "print(today)"
   ]
  },
  {
   "cell_type": "markdown",
   "id": "fa1d4348",
   "metadata": {},
   "source": [
    "# Load the data in CSV"
   ]
  },
  {
   "cell_type": "code",
   "execution_count": 36,
   "id": "717fd609",
   "metadata": {},
   "outputs": [
    {
     "data": {
      "text/html": [
       "<div>\n",
       "<style scoped>\n",
       "    .dataframe tbody tr th:only-of-type {\n",
       "        vertical-align: middle;\n",
       "    }\n",
       "\n",
       "    .dataframe tbody tr th {\n",
       "        vertical-align: top;\n",
       "    }\n",
       "\n",
       "    .dataframe thead th {\n",
       "        text-align: right;\n",
       "    }\n",
       "</style>\n",
       "<table border=\"1\" class=\"dataframe\">\n",
       "  <thead>\n",
       "    <tr style=\"text-align: right;\">\n",
       "      <th></th>\n",
       "      <th>Title</th>\n",
       "      <th>Price</th>\n",
       "      <th>Date</th>\n",
       "    </tr>\n",
       "  </thead>\n",
       "  <tbody>\n",
       "    <tr>\n",
       "      <th>0</th>\n",
       "      <td>Starbucks Corp</td>\n",
       "      <td>94.52</td>\n",
       "      <td>2024-01-30</td>\n",
       "    </tr>\n",
       "  </tbody>\n",
       "</table>\n",
       "</div>"
      ],
      "text/plain": [
       "            Title  Price        Date\n",
       "0  Starbucks Corp  94.52  2024-01-30"
      ]
     },
     "execution_count": 36,
     "metadata": {},
     "output_type": "execute_result"
    }
   ],
   "source": [
    "import csv\n",
    "\n",
    "header = ['Title', 'Price', 'Date']\n",
    "data = [title, price, today]\n",
    "type(data)\n",
    "\n",
    "# 'w' - write --> it is used for the first time to insert the data\n",
    "with open('StarBucksShareScraperData.csv', 'w', newline='', encoding='UTF8') as f:\n",
    "    writer = csv.writer(f)\n",
    "    writer.writerow(header)\n",
    "    writer.writerow(data)\n",
    "    \n",
    "# read the csv data using csv\n",
    "import pandas as pd\n",
    "df = pd.read_csv(r\"C:\\Users\\kallzz\\Desktop\\Data_Analytics\\AlexTheAnalyst\\Python - Jupyter Notebooks\\StarBucksShareScraperData.csv\")\n",
    "df"
   ]
  },
  {
   "cell_type": "markdown",
   "id": "d558fe7d",
   "metadata": {},
   "source": [
    "# append the data in csv"
   ]
  },
  {
   "cell_type": "code",
   "execution_count": 39,
   "id": "d7382902",
   "metadata": {},
   "outputs": [],
   "source": [
    "# 'a+' - append\n",
    "with open('StarBucksShareScraperData.csv', 'a+', newline='', encoding='UTF8') as f:\n",
    "    writer = csv.writer(f)\n",
    "    writer.writerow(data)"
   ]
  },
  {
   "cell_type": "code",
   "execution_count": 41,
   "id": "870ea86e",
   "metadata": {},
   "outputs": [
    {
     "data": {
      "text/html": [
       "<div>\n",
       "<style scoped>\n",
       "    .dataframe tbody tr th:only-of-type {\n",
       "        vertical-align: middle;\n",
       "    }\n",
       "\n",
       "    .dataframe tbody tr th {\n",
       "        vertical-align: top;\n",
       "    }\n",
       "\n",
       "    .dataframe thead th {\n",
       "        text-align: right;\n",
       "    }\n",
       "</style>\n",
       "<table border=\"1\" class=\"dataframe\">\n",
       "  <thead>\n",
       "    <tr style=\"text-align: right;\">\n",
       "      <th></th>\n",
       "      <th>Title</th>\n",
       "      <th>Price</th>\n",
       "      <th>Date</th>\n",
       "    </tr>\n",
       "  </thead>\n",
       "  <tbody>\n",
       "    <tr>\n",
       "      <th>0</th>\n",
       "      <td>Starbucks Corp</td>\n",
       "      <td>94.52</td>\n",
       "      <td>2024-01-30</td>\n",
       "    </tr>\n",
       "    <tr>\n",
       "      <th>1</th>\n",
       "      <td>Starbucks Corp</td>\n",
       "      <td>94.52</td>\n",
       "      <td>2024-01-30</td>\n",
       "    </tr>\n",
       "    <tr>\n",
       "      <th>2</th>\n",
       "      <td>Starbucks Corp</td>\n",
       "      <td>94.52</td>\n",
       "      <td>2024-01-30</td>\n",
       "    </tr>\n",
       "  </tbody>\n",
       "</table>\n",
       "</div>"
      ],
      "text/plain": [
       "            Title  Price        Date\n",
       "0  Starbucks Corp  94.52  2024-01-30\n",
       "1  Starbucks Corp  94.52  2024-01-30\n",
       "2  Starbucks Corp  94.52  2024-01-30"
      ]
     },
     "execution_count": 41,
     "metadata": {},
     "output_type": "execute_result"
    }
   ],
   "source": [
    "df = pd.read_csv(r\"C:\\Users\\kallzz\\Desktop\\Data_Analytics\\AlexTheAnalyst\\Python - Jupyter Notebooks\\StarBucksShareScraperData.csv\")\n",
    "df"
   ]
  },
  {
   "cell_type": "markdown",
   "id": "7385395c",
   "metadata": {},
   "source": [
    "# create a function to check the share price in time interval"
   ]
  },
  {
   "cell_type": "code",
   "execution_count": 44,
   "id": "0bd991a4",
   "metadata": {},
   "outputs": [],
   "source": [
    "def check_share_price():\n",
    "    url = 'https://www.google.com/search?q=share+price+of+starbucks&sca_esv=41437dda0f3602d3&sxsrf=ACQVn0-njL7Sy1MRIyCtBaGl56w3Ha8dYg%3A1706644688757&ei=0FS5ZcPXLYa5qtsPtceK6A4&oq=share+prc&gs_lp=Egxnd3Mtd2l6LXNlcnAiCXNoYXJlIHByYyoCCAAyDxAAGIAEGIoFGEMYRhj6ATIKEAAYgAQYChixAzINEAAYgAQYChixAxiDATINEAAYgAQYChixAxiDATINEAAYgAQYChixAxiDATINEAAYgAQYChixAxiDATINEAAYgAQYChixAxiDATIHEAAYgAQYCjIHEAAYgAQYCjINEAAYgAQYChixAxiDATIbEAAYgAQYigUYQxhGGPoBGJcFGIwFGN0E2AEDSIZXUABY1jxwCXgBkAEAmAFxoAHXCqoBBDE0LjK4AQHIAQD4AQGoAhDCAgoQIxiABBiKBRgnwgITEC4YgAQYigUYxwEYrwEYjgUYJ8ICFxAuGIAEGIoFGJECGLEDGIMBGMcBGNEDwgILEAAYgAQYigUYkQLCAggQABiABBixA8ICERAuGIAEGIoFGLEDGIMBGNQCwgIFEAAYgATCAgsQLhiABBjHARjRA8ICFhAuGEMYxwEY1AIYsQMY0QMYgAQYigXCAg4QLhiABBixAxiDARjUAsICEBAuGIAEGIoFGEMYsQMYgwHCAgoQABiABBiKBRhDwgIKEC4YgAQYigUYQ8ICERAuGIAEGLEDGIMBGMcBGNEDwgIlEC4YQxjHARjUAhixAxjRAxiABBiKBRiXBRjcBBjeBBjgBNgBAcICEBAuGIAEGIoFGEMYxwEY0QPCAgsQLhiABBjHARivAcICCBAuGIAEGLEDwgIOEC4YgAQYigUYsQMYgwHCAhkQLhiABBiKBRhDGJcFGNwEGN4EGOAE2AEBwgIOEC4YrwEYxwEYsQMYgATCAgsQLhiDARixAxiABMICCxAuGK8BGMcBGIAEwgILEC4YgAQYsQMYgwHCAh0QLhivARjHARixAxiABBiXBRjcBBjeBBjgBNgBAcICDRAuGMcBGNEDGOoCGCfCAgcQIxjqAhgnwgIQEC4YxwEYrwEYjgUY6gIYJ8ICHBAuGIAEGIoFGEMYxwEY0QMYyAMY6gIYtALYAQLCAh8QLhiABBiKBRhDGMcBGNEDGNQCGMgDGOoCGLQC2AECwgIZEC4YgAQYigUYQxjUAhjIAxjqAhi0AtgBAsICEBAuGMcBGNEDGIAEGIoFGCfCAgsQABiABBixAxiDAcICHRAuGMcBGNEDGIAEGIoFGJcFGNwEGN4EGOAE2AEBwgIWEC4YgAQYigUYQxixAxiDARjHARjRA8ICDhAuGIAEGLEDGMcBGNEDwgIFEC4YgATCAhYQLhiABBiKBRhDGLEDGMkDGMcBGNEDwgILEAAYgAQYigUYkgPCAiUQLhiABBiKBRhDGLEDGMkDGMcBGNEDGJcFGNwEGN4EGOAE2AEBwgINEAAYgAQYigUYQxixA8ICEBAAGIAEGIoFGEMYsQMYgwHCAg4QLhiABBjHARivARiOBeIDBBgAIEG6BgYIARABGBS6BgYIAhABGAi6BgYIAxABGBM&sclient=gws-wiz-serp'\n",
    "\n",
    "    headers = {\"User-Agent\": \"Mozilla/5.0 (Windows NT 10.0; Win64; x64) AppleWebKit/537.36 (KHTML, like Gecko) Chrome/121.0.0.0 Safari/537.36\", \"Accept-Encoding\":\"gzip, deflate\", \"Accept\":\"text/html,application/xhtml+xml,application/xml;q=0.9,*/*;q=0.8\", \"DNT\":\"1\",\"Connection\":\"close\", \"Upgrade-Insecure-Requests\":\"1\"}\n",
    "\n",
    "    page = requests.get(url, headers=headers)\n",
    "\n",
    "    soup1 = BeautifulSoup(page.content, \"html.parser\")\n",
    "\n",
    "    soup2 = BeautifulSoup(soup1.prettify(), \"html.parser\")\n",
    "\n",
    "    title = soup2.find('span', attrs={\"data-attrid\": \"Company Name\"}).get_text()\n",
    "\n",
    "    price = soup2.find('span', attrs={\"class\": \"IsqQVc NprOob wT3VGc\"}).get_text()\n",
    "        \n",
    "    title = title.strip()\n",
    "    price = price.strip()\n",
    "    \n",
    "    import datetime\n",
    "    \n",
    "    today = datetime.date.today()\n",
    "    data = [title, price, today]\n",
    "    \n",
    "    import csv\n",
    "    \n",
    "    with open('StarBucksShareScraperData.csv', 'a+', newline='', encoding='UTF8') as f:\n",
    "        writer = csv.writer(f)\n",
    "        writer.writerow(data)"
   ]
  },
  {
   "cell_type": "code",
   "execution_count": 45,
   "id": "813a3ba8",
   "metadata": {},
   "outputs": [
    {
     "ename": "KeyboardInterrupt",
     "evalue": "",
     "output_type": "error",
     "traceback": [
      "\u001b[1;31m---------------------------------------------------------------------------\u001b[0m",
      "\u001b[1;31mKeyboardInterrupt\u001b[0m                         Traceback (most recent call last)",
      "Cell \u001b[1;32mIn[45], line 3\u001b[0m\n\u001b[0;32m      1\u001b[0m \u001b[38;5;28;01mwhile\u001b[39;00m(\u001b[38;5;28;01mTrue\u001b[39;00m):\n\u001b[0;32m      2\u001b[0m     check_share_price()\n\u001b[1;32m----> 3\u001b[0m     \u001b[43mtime\u001b[49m\u001b[38;5;241;43m.\u001b[39;49m\u001b[43msleep\u001b[49m\u001b[43m(\u001b[49m\u001b[38;5;241;43m5\u001b[39;49m\u001b[43m)\u001b[49m\n",
      "\u001b[1;31mKeyboardInterrupt\u001b[0m: "
     ]
    }
   ],
   "source": [
    "while(True):\n",
    "    check_share_price()\n",
    "    time.sleep(5)"
   ]
  },
  {
   "cell_type": "code",
   "execution_count": 46,
   "id": "92df19cf",
   "metadata": {},
   "outputs": [
    {
     "data": {
      "text/html": [
       "<div>\n",
       "<style scoped>\n",
       "    .dataframe tbody tr th:only-of-type {\n",
       "        vertical-align: middle;\n",
       "    }\n",
       "\n",
       "    .dataframe tbody tr th {\n",
       "        vertical-align: top;\n",
       "    }\n",
       "\n",
       "    .dataframe thead th {\n",
       "        text-align: right;\n",
       "    }\n",
       "</style>\n",
       "<table border=\"1\" class=\"dataframe\">\n",
       "  <thead>\n",
       "    <tr style=\"text-align: right;\">\n",
       "      <th></th>\n",
       "      <th>Title</th>\n",
       "      <th>Price</th>\n",
       "      <th>Date</th>\n",
       "    </tr>\n",
       "  </thead>\n",
       "  <tbody>\n",
       "    <tr>\n",
       "      <th>0</th>\n",
       "      <td>Starbucks Corp</td>\n",
       "      <td>94.52</td>\n",
       "      <td>2024-01-30</td>\n",
       "    </tr>\n",
       "    <tr>\n",
       "      <th>1</th>\n",
       "      <td>Starbucks Corp</td>\n",
       "      <td>94.52</td>\n",
       "      <td>2024-01-30</td>\n",
       "    </tr>\n",
       "    <tr>\n",
       "      <th>2</th>\n",
       "      <td>Starbucks Corp</td>\n",
       "      <td>94.52</td>\n",
       "      <td>2024-01-30</td>\n",
       "    </tr>\n",
       "    <tr>\n",
       "      <th>3</th>\n",
       "      <td>Starbucks Corp</td>\n",
       "      <td>94.08</td>\n",
       "      <td>2024-01-30</td>\n",
       "    </tr>\n",
       "    <tr>\n",
       "      <th>4</th>\n",
       "      <td>Starbucks Corp</td>\n",
       "      <td>94.08</td>\n",
       "      <td>2024-01-30</td>\n",
       "    </tr>\n",
       "    <tr>\n",
       "      <th>5</th>\n",
       "      <td>Starbucks Corp</td>\n",
       "      <td>94.08</td>\n",
       "      <td>2024-01-30</td>\n",
       "    </tr>\n",
       "    <tr>\n",
       "      <th>6</th>\n",
       "      <td>Starbucks Corp</td>\n",
       "      <td>94.08</td>\n",
       "      <td>2024-01-30</td>\n",
       "    </tr>\n",
       "    <tr>\n",
       "      <th>7</th>\n",
       "      <td>Starbucks Corp</td>\n",
       "      <td>94.08</td>\n",
       "      <td>2024-01-30</td>\n",
       "    </tr>\n",
       "  </tbody>\n",
       "</table>\n",
       "</div>"
      ],
      "text/plain": [
       "            Title  Price        Date\n",
       "0  Starbucks Corp  94.52  2024-01-30\n",
       "1  Starbucks Corp  94.52  2024-01-30\n",
       "2  Starbucks Corp  94.52  2024-01-30\n",
       "3  Starbucks Corp  94.08  2024-01-30\n",
       "4  Starbucks Corp  94.08  2024-01-30\n",
       "5  Starbucks Corp  94.08  2024-01-30\n",
       "6  Starbucks Corp  94.08  2024-01-30\n",
       "7  Starbucks Corp  94.08  2024-01-30"
      ]
     },
     "execution_count": 46,
     "metadata": {},
     "output_type": "execute_result"
    }
   ],
   "source": [
    "df = pd.read_csv(r\"C:\\Users\\kallzz\\Desktop\\Data_Analytics\\AlexTheAnalyst\\Python - Jupyter Notebooks\\StarBucksShareScraperData.csv\")\n",
    "df"
   ]
  },
  {
   "cell_type": "code",
   "execution_count": 51,
   "id": "456f19eb",
   "metadata": {},
   "outputs": [],
   "source": [
    "# If uou want to try sending yourself an email (just for fun) when a price hits below a certain level you can try it\n",
    "# out with this script\n",
    "\n",
    "def send_mail():\n",
    "    server = smtplib.SMTP_SSL('smtp.gmail.com',465)\n",
    "    server.ehlo()\n",
    "    #server.starttls()\n",
    "    server.ehlo()\n",
    "    server.login('AlexTheAnalyst95@gmail.com','xxxxxxxxxxxxxx')\n",
    "    \n",
    "    subject = \"The Shirt you want is below $15! Now is your chance to buy!\"\n",
    "    body = \"Alex, This is the moment we have been waiting for. Now is your chance to pick up the shirt of your dreams. Don't mess it up! Link here: https://www.amazon.com/Funny-Data-Systems-Business-Analyst/dp/B07FNW9FGJ/ref=sr_1_3?dchild=1&keywords=data+analyst+tshirt&qid=1626655184&sr=8-3\"\n",
    "   \n",
    "    msg = f\"Subject: {subject}\\n\\n{body}\"\n",
    "    \n",
    "    server.sendmail(\n",
    "        'AlexTheAnalyst95@gmail.com',\n",
    "        msg\n",
    "     \n",
    "    )"
   ]
  },
  {
   "cell_type": "code",
   "execution_count": 53,
   "id": "0f4b222d",
   "metadata": {},
   "outputs": [
    {
     "ename": "SMTPAuthenticationError",
     "evalue": "(534, b'5.7.9 Application-specific password required. For more information, go to\\n5.7.9  https://support.google.com/mail/?p=InvalidSecondFactor r12-20020a54488c000000b003be81acd460sm537769oic.7 - gsmtp')",
     "output_type": "error",
     "traceback": [
      "\u001b[1;31m---------------------------------------------------------------------------\u001b[0m",
      "\u001b[1;31mSMTPAuthenticationError\u001b[0m                   Traceback (most recent call last)",
      "Cell \u001b[1;32mIn[53], line 1\u001b[0m\n\u001b[1;32m----> 1\u001b[0m \u001b[43msend_mail\u001b[49m\u001b[43m(\u001b[49m\u001b[43m)\u001b[49m\n",
      "Cell \u001b[1;32mIn[51], line 9\u001b[0m, in \u001b[0;36msend_mail\u001b[1;34m()\u001b[0m\n\u001b[0;32m      7\u001b[0m \u001b[38;5;66;03m#server.starttls()\u001b[39;00m\n\u001b[0;32m      8\u001b[0m server\u001b[38;5;241m.\u001b[39mehlo()\n\u001b[1;32m----> 9\u001b[0m \u001b[43mserver\u001b[49m\u001b[38;5;241;43m.\u001b[39;49m\u001b[43mlogin\u001b[49m\u001b[43m(\u001b[49m\u001b[38;5;124;43m'\u001b[39;49m\u001b[38;5;124;43mkalyan.satvik@gmail.com\u001b[39;49m\u001b[38;5;124;43m'\u001b[39;49m\u001b[43m,\u001b[49m\u001b[38;5;124;43m'\u001b[39;49m\u001b[38;5;124;43mAashi))72527\u001b[39;49m\u001b[38;5;124;43m'\u001b[39;49m\u001b[43m)\u001b[49m\n\u001b[0;32m     11\u001b[0m subject \u001b[38;5;241m=\u001b[39m \u001b[38;5;124m\"\u001b[39m\u001b[38;5;124mThe Shirt you want is below $15! Now is your chance to buy!\u001b[39m\u001b[38;5;124m\"\u001b[39m\n\u001b[0;32m     12\u001b[0m body \u001b[38;5;241m=\u001b[39m \u001b[38;5;124m\"\u001b[39m\u001b[38;5;124mAlex, This is the moment we have been waiting for. Now is your chance to pick up the shirt of your dreams. Don\u001b[39m\u001b[38;5;124m'\u001b[39m\u001b[38;5;124mt mess it up! Link here: https://www.amazon.com/Funny-Data-Systems-Business-Analyst/dp/B07FNW9FGJ/ref=sr_1_3?dchild=1&keywords=data+analyst+tshirt&qid=1626655184&sr=8-3\u001b[39m\u001b[38;5;124m\"\u001b[39m\n",
      "File \u001b[1;32m~\\anaconda3\\lib\\smtplib.py:750\u001b[0m, in \u001b[0;36mSMTP.login\u001b[1;34m(self, user, password, initial_response_ok)\u001b[0m\n\u001b[0;32m    747\u001b[0m         last_exception \u001b[38;5;241m=\u001b[39m e\n\u001b[0;32m    749\u001b[0m \u001b[38;5;66;03m# We could not login successfully.  Return result of last attempt.\u001b[39;00m\n\u001b[1;32m--> 750\u001b[0m \u001b[38;5;28;01mraise\u001b[39;00m last_exception\n",
      "File \u001b[1;32m~\\anaconda3\\lib\\smtplib.py:739\u001b[0m, in \u001b[0;36mSMTP.login\u001b[1;34m(self, user, password, initial_response_ok)\u001b[0m\n\u001b[0;32m    737\u001b[0m method_name \u001b[38;5;241m=\u001b[39m \u001b[38;5;124m'\u001b[39m\u001b[38;5;124mauth_\u001b[39m\u001b[38;5;124m'\u001b[39m \u001b[38;5;241m+\u001b[39m authmethod\u001b[38;5;241m.\u001b[39mlower()\u001b[38;5;241m.\u001b[39mreplace(\u001b[38;5;124m'\u001b[39m\u001b[38;5;124m-\u001b[39m\u001b[38;5;124m'\u001b[39m, \u001b[38;5;124m'\u001b[39m\u001b[38;5;124m_\u001b[39m\u001b[38;5;124m'\u001b[39m)\n\u001b[0;32m    738\u001b[0m \u001b[38;5;28;01mtry\u001b[39;00m:\n\u001b[1;32m--> 739\u001b[0m     (code, resp) \u001b[38;5;241m=\u001b[39m \u001b[38;5;28;43mself\u001b[39;49m\u001b[38;5;241;43m.\u001b[39;49m\u001b[43mauth\u001b[49m\u001b[43m(\u001b[49m\n\u001b[0;32m    740\u001b[0m \u001b[43m        \u001b[49m\u001b[43mauthmethod\u001b[49m\u001b[43m,\u001b[49m\u001b[43m \u001b[49m\u001b[38;5;28;43mgetattr\u001b[39;49m\u001b[43m(\u001b[49m\u001b[38;5;28;43mself\u001b[39;49m\u001b[43m,\u001b[49m\u001b[43m \u001b[49m\u001b[43mmethod_name\u001b[49m\u001b[43m)\u001b[49m\u001b[43m,\u001b[49m\n\u001b[0;32m    741\u001b[0m \u001b[43m        \u001b[49m\u001b[43minitial_response_ok\u001b[49m\u001b[38;5;241;43m=\u001b[39;49m\u001b[43minitial_response_ok\u001b[49m\u001b[43m)\u001b[49m\n\u001b[0;32m    742\u001b[0m     \u001b[38;5;66;03m# 235 == 'Authentication successful'\u001b[39;00m\n\u001b[0;32m    743\u001b[0m     \u001b[38;5;66;03m# 503 == 'Error: already authenticated'\u001b[39;00m\n\u001b[0;32m    744\u001b[0m     \u001b[38;5;28;01mif\u001b[39;00m code \u001b[38;5;129;01min\u001b[39;00m (\u001b[38;5;241m235\u001b[39m, \u001b[38;5;241m503\u001b[39m):\n",
      "File \u001b[1;32m~\\anaconda3\\lib\\smtplib.py:662\u001b[0m, in \u001b[0;36mSMTP.auth\u001b[1;34m(self, mechanism, authobject, initial_response_ok)\u001b[0m\n\u001b[0;32m    660\u001b[0m \u001b[38;5;28;01mif\u001b[39;00m code \u001b[38;5;129;01min\u001b[39;00m (\u001b[38;5;241m235\u001b[39m, \u001b[38;5;241m503\u001b[39m):\n\u001b[0;32m    661\u001b[0m     \u001b[38;5;28;01mreturn\u001b[39;00m (code, resp)\n\u001b[1;32m--> 662\u001b[0m \u001b[38;5;28;01mraise\u001b[39;00m SMTPAuthenticationError(code, resp)\n",
      "\u001b[1;31mSMTPAuthenticationError\u001b[0m: (534, b'5.7.9 Application-specific password required. For more information, go to\\n5.7.9  https://support.google.com/mail/?p=InvalidSecondFactor r12-20020a54488c000000b003be81acd460sm537769oic.7 - gsmtp')"
     ]
    }
   ],
   "source": [
    "send_mail()"
   ]
  },
  {
   "cell_type": "code",
   "execution_count": null,
   "id": "09246b81",
   "metadata": {},
   "outputs": [],
   "source": []
  }
 ],
 "metadata": {
  "kernelspec": {
   "display_name": "Python 3 (ipykernel)",
   "language": "python",
   "name": "python3"
  },
  "language_info": {
   "codemirror_mode": {
    "name": "ipython",
    "version": 3
   },
   "file_extension": ".py",
   "mimetype": "text/x-python",
   "name": "python",
   "nbconvert_exporter": "python",
   "pygments_lexer": "ipython3",
   "version": "3.10.9"
  }
 },
 "nbformat": 4,
 "nbformat_minor": 5
}
