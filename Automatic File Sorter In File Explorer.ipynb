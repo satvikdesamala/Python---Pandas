{
 "cells": [
  {
   "cell_type": "code",
   "execution_count": 31,
   "id": "578d7a8b",
   "metadata": {},
   "outputs": [],
   "source": [
    "import os, shutil"
   ]
  },
  {
   "cell_type": "code",
   "execution_count": 32,
   "id": "342ee61d",
   "metadata": {},
   "outputs": [],
   "source": [
    "# r is to convert the text to rich text and replace \\ with / in path\n",
    "path = r\"C:/Users/kallzz/Desktop/Data Analytics Stuff/Data Analyst - Boot Camp/File Sorter/\""
   ]
  },
  {
   "cell_type": "code",
   "execution_count": 33,
   "id": "4ac6b70e",
   "metadata": {},
   "outputs": [
    {
     "data": {
      "text/plain": [
       "['Excel files', 'Image files', 'Text files']"
      ]
     },
     "execution_count": 33,
     "metadata": {},
     "output_type": "execute_result"
    }
   ],
   "source": [
    "# list out all the files in the specific path\n",
    "os.listdir(path)"
   ]
  },
  {
   "cell_type": "code",
   "execution_count": 34,
   "id": "4069b120",
   "metadata": {},
   "outputs": [
    {
     "data": {
      "text/plain": [
       "list"
      ]
     },
     "execution_count": 34,
     "metadata": {},
     "output_type": "execute_result"
    }
   ],
   "source": [
    "file_name_list = os.listdir(path)\n",
    "type(file_name_list)"
   ]
  },
  {
   "cell_type": "code",
   "execution_count": 35,
   "id": "389f0219",
   "metadata": {},
   "outputs": [],
   "source": [
    "folder_names = ['Excel files', 'Image files', 'Text files']\n",
    "# type(folder_names)\n",
    "# use range to iterate the list. Usual for loop syntax will not work here\n",
    "# for name in folder_names: incorrect\n",
    "for name in range(0,3):\n",
    "    if not os.path.exists(path + folder_names[name]):\n",
    "        os.makedirs(path + folder_names[name])"
   ]
  },
  {
   "cell_type": "code",
   "execution_count": 36,
   "id": "6f15f0c2",
   "metadata": {},
   "outputs": [],
   "source": [
    "for file in file_name_list:\n",
    "    if \".xlsx\" in file and not os.path.exists(path + 'Excel files/' + file):\n",
    "        #(original path, new path)\n",
    "        shutil.move(path + file, path + 'Excel files/' + file)\n",
    "    elif \".txt\" in file and not os.path.exists(path + 'Text files/' + file):\n",
    "        #(original path, new path)\n",
    "        shutil.move(path + file, path + 'Text files/' + file)\n",
    "    elif \".png\" in file and not os.path.exists(path + 'Image files/' + file):\n",
    "        #(original path, new path)\n",
    "        shutil.move(path + file, path + 'Image files/' + file)\n",
    "    elif \".jpg\" in file and not os.path.exists(path + 'Image files/' + file):\n",
    "        #(original path, new path)\n",
    "        shutil.move(path + file, path + 'Image files/' + file)"
   ]
  },
  {
   "cell_type": "code",
   "execution_count": null,
   "id": "4eac8049",
   "metadata": {},
   "outputs": [],
   "source": []
  },
  {
   "cell_type": "code",
   "execution_count": null,
   "id": "54b75980",
   "metadata": {},
   "outputs": [],
   "source": []
  }
 ],
 "metadata": {
  "kernelspec": {
   "display_name": "Python 3 (ipykernel)",
   "language": "python",
   "name": "python3"
  },
  "language_info": {
   "codemirror_mode": {
    "name": "ipython",
    "version": 3
   },
   "file_extension": ".py",
   "mimetype": "text/x-python",
   "name": "python",
   "nbconvert_exporter": "python",
   "pygments_lexer": "ipython3",
   "version": "3.10.9"
  }
 },
 "nbformat": 4,
 "nbformat_minor": 5
}
