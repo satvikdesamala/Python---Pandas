{
 "cells": [
  {
   "cell_type": "code",
   "execution_count": 1,
   "id": "1c477ea3",
   "metadata": {},
   "outputs": [],
   "source": [
    "from bs4 import BeautifulSoup\n",
    "import requests"
   ]
  },
  {
   "cell_type": "code",
   "execution_count": 2,
   "id": "57d1d48e",
   "metadata": {},
   "outputs": [],
   "source": [
    "url = 'https://en.wikipedia.org/wiki/List_of_largest_companies_in_the_United_States_by_revenue'"
   ]
  },
  {
   "cell_type": "code",
   "execution_count": 3,
   "id": "e638168f",
   "metadata": {},
   "outputs": [
    {
     "data": {
      "text/plain": [
       "<Response [200]>"
      ]
     },
     "execution_count": 3,
     "metadata": {},
     "output_type": "execute_result"
    }
   ],
   "source": [
    "requests.get(url)"
   ]
  },
  {
   "cell_type": "code",
   "execution_count": 4,
   "id": "dc69c9c4",
   "metadata": {},
   "outputs": [],
   "source": [
    "page = requests.get(url)"
   ]
  },
  {
   "cell_type": "code",
   "execution_count": 5,
   "id": "65a3d1ea",
   "metadata": {},
   "outputs": [
    {
     "ename": "FeatureNotFound",
     "evalue": "Couldn't find a tree builder with the features you requested: htmlll. Do you need to install a parser library?",
     "output_type": "error",
     "traceback": [
      "\u001b[1;31m---------------------------------------------------------------------------\u001b[0m",
      "\u001b[1;31mFeatureNotFound\u001b[0m                           Traceback (most recent call last)",
      "Cell \u001b[1;32mIn[5], line 1\u001b[0m\n\u001b[1;32m----> 1\u001b[0m \u001b[43mBeautifulSoup\u001b[49m\u001b[43m(\u001b[49m\u001b[43mpage\u001b[49m\u001b[38;5;241;43m.\u001b[39;49m\u001b[43mtext\u001b[49m\u001b[43m,\u001b[49m\u001b[43m \u001b[49m\u001b[38;5;124;43m'\u001b[39;49m\u001b[38;5;124;43mhtmlll\u001b[39;49m\u001b[38;5;124;43m'\u001b[39;49m\u001b[43m)\u001b[49m\n",
      "File \u001b[1;32m~\\anaconda3\\lib\\site-packages\\bs4\\__init__.py:248\u001b[0m, in \u001b[0;36mBeautifulSoup.__init__\u001b[1;34m(self, markup, features, builder, parse_only, from_encoding, exclude_encodings, element_classes, **kwargs)\u001b[0m\n\u001b[0;32m    246\u001b[0m     builder_class \u001b[38;5;241m=\u001b[39m builder_registry\u001b[38;5;241m.\u001b[39mlookup(\u001b[38;5;241m*\u001b[39mfeatures)\n\u001b[0;32m    247\u001b[0m     \u001b[38;5;28;01mif\u001b[39;00m builder_class \u001b[38;5;129;01mis\u001b[39;00m \u001b[38;5;28;01mNone\u001b[39;00m:\n\u001b[1;32m--> 248\u001b[0m         \u001b[38;5;28;01mraise\u001b[39;00m FeatureNotFound(\n\u001b[0;32m    249\u001b[0m             \u001b[38;5;124m\"\u001b[39m\u001b[38;5;124mCouldn\u001b[39m\u001b[38;5;124m'\u001b[39m\u001b[38;5;124mt find a tree builder with the features you \u001b[39m\u001b[38;5;124m\"\u001b[39m\n\u001b[0;32m    250\u001b[0m             \u001b[38;5;124m\"\u001b[39m\u001b[38;5;124mrequested: \u001b[39m\u001b[38;5;132;01m%s\u001b[39;00m\u001b[38;5;124m. Do you need to install a parser library?\u001b[39m\u001b[38;5;124m\"\u001b[39m\n\u001b[0;32m    251\u001b[0m             \u001b[38;5;241m%\u001b[39m \u001b[38;5;124m\"\u001b[39m\u001b[38;5;124m,\u001b[39m\u001b[38;5;124m\"\u001b[39m\u001b[38;5;241m.\u001b[39mjoin(features))\n\u001b[0;32m    253\u001b[0m \u001b[38;5;66;03m# At this point either we have a TreeBuilder instance in\u001b[39;00m\n\u001b[0;32m    254\u001b[0m \u001b[38;5;66;03m# builder, or we have a builder_class that we can instantiate\u001b[39;00m\n\u001b[0;32m    255\u001b[0m \u001b[38;5;66;03m# with the remaining **kwargs.\u001b[39;00m\n\u001b[0;32m    256\u001b[0m \u001b[38;5;28;01mif\u001b[39;00m builder \u001b[38;5;129;01mis\u001b[39;00m \u001b[38;5;28;01mNone\u001b[39;00m:\n",
      "\u001b[1;31mFeatureNotFound\u001b[0m: Couldn't find a tree builder with the features you requested: htmlll. Do you need to install a parser library?"
     ]
    }
   ],
   "source": [
    "BeautifulSoup(page.text, 'html')"
   ]
  },
  {
   "cell_type": "code",
   "execution_count": 6,
   "id": "6719821f",
   "metadata": {},
   "outputs": [],
   "source": [
    "soup = BeautifulSoup(page.text, 'html')"
   ]
  },
  {
   "cell_type": "code",
   "execution_count": 7,
   "id": "085bda69",
   "metadata": {},
   "outputs": [],
   "source": [
    "# to find the DOM data using tag\n",
    "soup.find('table')"
   ]
  },
  {
   "cell_type": "code",
   "execution_count": 8,
   "id": "05d0efae",
   "metadata": {},
   "outputs": [
    {
     "data": {
      "text/plain": [
       "[]"
      ]
     },
     "execution_count": 8,
     "metadata": {},
     "output_type": "execute_result"
    }
   ],
   "source": [
    "# returns list of matching data from DOM\n",
    "soup.find_all('table')"
   ]
  },
  {
   "cell_type": "code",
   "execution_count": 9,
   "id": "bdc71608",
   "metadata": {},
   "outputs": [],
   "source": [
    "#soup.find('table', class_ = 'wikitable sortable jquery-tablesorter') -- entire class name is not working here\n",
    "soup.find('table', class_ = 'wikitable sortable') "
   ]
  },
  {
   "cell_type": "code",
   "execution_count": 13,
   "id": "c844a8d6",
   "metadata": {},
   "outputs": [],
   "source": [
    "table = soup.find('table', class_ = 'wikitable sortable')"
   ]
  },
  {
   "cell_type": "code",
   "execution_count": 16,
   "id": "a1737efc",
   "metadata": {},
   "outputs": [],
   "source": [
    "world_titles = table.find_all('th')"
   ]
  },
  {
   "cell_type": "code",
   "execution_count": 17,
   "id": "b7d3fd9b",
   "metadata": {},
   "outputs": [
    {
     "name": "stdout",
     "output_type": "stream",
     "text": [
      "[<th>Rank\n",
      "</th>, <th>Name\n",
      "</th>, <th>Industry\n",
      "</th>, <th>Revenue <br/>(USD millions)\n",
      "</th>, <th>Revenue growth\n",
      "</th>, <th>Employees\n",
      "</th>, <th>Headquarters\n",
      "</th>]\n"
     ]
    }
   ],
   "source": [
    "print(world_titles)"
   ]
  },
  {
   "cell_type": "code",
   "execution_count": 18,
   "id": "3d3a8062",
   "metadata": {},
   "outputs": [
    {
     "name": "stdout",
     "output_type": "stream",
     "text": [
      "['Rank\\n', 'Name\\n', 'Industry\\n', 'Revenue (USD millions)\\n', 'Revenue growth\\n', 'Employees\\n', 'Headquarters\\n']\n"
     ]
    }
   ],
   "source": [
    "world_table_titles = [title.text for title in world_titles]\n",
    "\n",
    "print(world_table_titles)"
   ]
  },
  {
   "cell_type": "code",
   "execution_count": 19,
   "id": "9652dba3",
   "metadata": {},
   "outputs": [
    {
     "name": "stdout",
     "output_type": "stream",
     "text": [
      "['Rank', 'Name', 'Industry', 'Revenue (USD millions)', 'Revenue growth', 'Employees', 'Headquarters']\n"
     ]
    }
   ],
   "source": [
    "world_table_titles = [title.text.strip() for title in world_titles]\n",
    "\n",
    "print(world_table_titles)"
   ]
  },
  {
   "cell_type": "code",
   "execution_count": 21,
   "id": "2d5856c1",
   "metadata": {},
   "outputs": [
    {
     "data": {
      "text/html": [
       "<div>\n",
       "<style scoped>\n",
       "    .dataframe tbody tr th:only-of-type {\n",
       "        vertical-align: middle;\n",
       "    }\n",
       "\n",
       "    .dataframe tbody tr th {\n",
       "        vertical-align: top;\n",
       "    }\n",
       "\n",
       "    .dataframe thead th {\n",
       "        text-align: right;\n",
       "    }\n",
       "</style>\n",
       "<table border=\"1\" class=\"dataframe\">\n",
       "  <thead>\n",
       "    <tr style=\"text-align: right;\">\n",
       "      <th></th>\n",
       "      <th>Rank</th>\n",
       "      <th>Name</th>\n",
       "      <th>Industry</th>\n",
       "      <th>Revenue (USD millions)</th>\n",
       "      <th>Revenue growth</th>\n",
       "      <th>Employees</th>\n",
       "      <th>Headquarters</th>\n",
       "    </tr>\n",
       "  </thead>\n",
       "  <tbody>\n",
       "  </tbody>\n",
       "</table>\n",
       "</div>"
      ],
      "text/plain": [
       "Empty DataFrame\n",
       "Columns: [Rank, Name, Industry, Revenue (USD millions), Revenue growth, Employees, Headquarters]\n",
       "Index: []"
      ]
     },
     "execution_count": 21,
     "metadata": {},
     "output_type": "execute_result"
    }
   ],
   "source": [
    "import pandas as pd\n",
    "\n",
    "df = pd.DataFrame(columns = world_table_titles)\n",
    "\n",
    "df"
   ]
  },
  {
   "cell_type": "code",
   "execution_count": 22,
   "id": "0d3471b9",
   "metadata": {},
   "outputs": [],
   "source": [
    "column_data = table.find_all('tr')"
   ]
  },
  {
   "cell_type": "code",
   "execution_count": 10,
   "id": "e32a82a7",
   "metadata": {},
   "outputs": [
    {
     "ename": "NameError",
     "evalue": "name 'column_data' is not defined",
     "output_type": "error",
     "traceback": [
      "\u001b[1;31m---------------------------------------------------------------------------\u001b[0m",
      "\u001b[1;31mNameError\u001b[0m                                 Traceback (most recent call last)",
      "Cell \u001b[1;32mIn[10], line 1\u001b[0m\n\u001b[1;32m----> 1\u001b[0m \u001b[38;5;28;01mfor\u001b[39;00m row \u001b[38;5;129;01min\u001b[39;00m \u001b[43mcolumn_data\u001b[49m:\n\u001b[0;32m      2\u001b[0m     \u001b[38;5;28mprint\u001b[39m(row\u001b[38;5;241m.\u001b[39mfind_all(\u001b[38;5;124m'\u001b[39m\u001b[38;5;124mtdd\u001b[39m\u001b[38;5;124m'\u001b[39m))\n",
      "\u001b[1;31mNameError\u001b[0m: name 'column_data' is not defined"
     ]
    }
   ],
   "source": [
    "for row in column_data:\n",
    "    print(row.find_all('td'))"
   ]
  },
  {
   "cell_type": "code",
   "execution_count": 11,
   "id": "96494088",
   "metadata": {},
   "outputs": [
    {
     "ename": "NameError",
     "evalue": "name 'column_data' is not defined",
     "output_type": "error",
     "traceback": [
      "\u001b[1;31m---------------------------------------------------------------------------\u001b[0m",
      "\u001b[1;31mNameError\u001b[0m                                 Traceback (most recent call last)",
      "Cell \u001b[1;32mIn[11], line 1\u001b[0m\n\u001b[1;32m----> 1\u001b[0m \u001b[38;5;28;01mfor\u001b[39;00m row \u001b[38;5;129;01min\u001b[39;00m \u001b[43mcolumn_data\u001b[49m:\n\u001b[0;32m      2\u001b[0m     row_data \u001b[38;5;241m=\u001b[39m row\u001b[38;5;241m.\u001b[39mfind_all(\u001b[38;5;124m'\u001b[39m\u001b[38;5;124mtd\u001b[39m\u001b[38;5;124m'\u001b[39m)\n\u001b[0;32m      3\u001b[0m     individual_row_data \u001b[38;5;241m=\u001b[39m [data\u001b[38;5;241m.\u001b[39mtext\u001b[38;5;241m.\u001b[39mstrip() \u001b[38;5;28;01mfor\u001b[39;00m data \u001b[38;5;129;01min\u001b[39;00m row_data]\n",
      "\u001b[1;31mNameError\u001b[0m: name 'column_data' is not defined"
     ]
    }
   ],
   "source": [
    "for row in column_data:\n",
    "    row_data = row.find_all('td')\n",
    "    individual_row_data = [data.text.strip() for data in row_data]\n",
    "    print(individual_row_data)"
   ]
  },
  {
   "cell_type": "code",
   "execution_count": 12,
   "id": "b6419140",
   "metadata": {},
   "outputs": [
    {
     "ename": "NameError",
     "evalue": "name 'column_data' is not defined",
     "output_type": "error",
     "traceback": [
      "\u001b[1;31m---------------------------------------------------------------------------\u001b[0m",
      "\u001b[1;31mNameError\u001b[0m                                 Traceback (most recent call last)",
      "Cell \u001b[1;32mIn[12], line 1\u001b[0m\n\u001b[1;32m----> 1\u001b[0m \u001b[38;5;28;01mfor\u001b[39;00m row \u001b[38;5;129;01min\u001b[39;00m \u001b[43mcolumn_data\u001b[49m:\n\u001b[0;32m      2\u001b[0m     row_data \u001b[38;5;241m=\u001b[39m row\u001b[38;5;241m.\u001b[39mfind_all(\u001b[38;5;124m'\u001b[39m\u001b[38;5;124mtd\u001b[39m\u001b[38;5;124m'\u001b[39m)\n\u001b[0;32m      3\u001b[0m     individual_row_data \u001b[38;5;241m=\u001b[39m [data\u001b[38;5;241m.\u001b[39mtext\u001b[38;5;241m.\u001b[39mstrip() \u001b[38;5;28;01mfor\u001b[39;00m data \u001b[38;5;129;01min\u001b[39;00m row_data]\n",
      "\u001b[1;31mNameError\u001b[0m: name 'column_data' is not defined"
     ]
    }
   ],
   "source": [
    "for row in column_data:\n",
    "    row_data = row.find_all('td')\n",
    "    individual_row_data = [data.text.strip() for data in row_data]\n",
    "    \n",
    "    # insert the row data in to df\n",
    "    length = len(df)\n",
    "    df.loc[length] = individual_row_data"
   ]
  },
  {
   "cell_type": "code",
   "execution_count": 26,
   "id": "aabe78b6",
   "metadata": {},
   "outputs": [],
   "source": [
    "# error due to an empty row in the individual_row_data in the begining"
   ]
  },
  {
   "cell_type": "code",
   "execution_count": 32,
   "id": "790b7dde",
   "metadata": {},
   "outputs": [],
   "source": [
    "for row in column_data[1:]:\n",
    "    row_data = row.find_all('td')\n",
    "    individual_row_data = [data.text.strip() for data in row_data]\n",
    "    \n",
    "    length = len(df)\n",
    "    df.loc[length] = individual_row_data"
   ]
  },
  {
   "cell_type": "code",
   "execution_count": 33,
   "id": "83221e50",
   "metadata": {},
   "outputs": [
    {
     "data": {
      "text/html": [
       "<div>\n",
       "<style scoped>\n",
       "    .dataframe tbody tr th:only-of-type {\n",
       "        vertical-align: middle;\n",
       "    }\n",
       "\n",
       "    .dataframe tbody tr th {\n",
       "        vertical-align: top;\n",
       "    }\n",
       "\n",
       "    .dataframe thead th {\n",
       "        text-align: right;\n",
       "    }\n",
       "</style>\n",
       "<table border=\"1\" class=\"dataframe\">\n",
       "  <thead>\n",
       "    <tr style=\"text-align: right;\">\n",
       "      <th></th>\n",
       "      <th>Rank</th>\n",
       "      <th>Name</th>\n",
       "      <th>Industry</th>\n",
       "      <th>Revenue (USD millions)</th>\n",
       "      <th>Revenue growth</th>\n",
       "      <th>Employees</th>\n",
       "      <th>Headquarters</th>\n",
       "    </tr>\n",
       "  </thead>\n",
       "  <tbody>\n",
       "    <tr>\n",
       "      <th>length</th>\n",
       "      <td>100</td>\n",
       "      <td>Qualcomm</td>\n",
       "      <td>Technology</td>\n",
       "      <td>44,200</td>\n",
       "      <td>31.7%</td>\n",
       "      <td>51,000</td>\n",
       "      <td>San Diego, California</td>\n",
       "    </tr>\n",
       "    <tr>\n",
       "      <th>1</th>\n",
       "      <td>1</td>\n",
       "      <td>Walmart</td>\n",
       "      <td>Retail</td>\n",
       "      <td>611,289</td>\n",
       "      <td>6.7%</td>\n",
       "      <td>2,100,000</td>\n",
       "      <td>Bentonville, Arkansas</td>\n",
       "    </tr>\n",
       "    <tr>\n",
       "      <th>2</th>\n",
       "      <td>2</td>\n",
       "      <td>Amazon</td>\n",
       "      <td>Retail and cloud computing</td>\n",
       "      <td>513,983</td>\n",
       "      <td>9.4%</td>\n",
       "      <td>1,540,000</td>\n",
       "      <td>Seattle, Washington</td>\n",
       "    </tr>\n",
       "    <tr>\n",
       "      <th>3</th>\n",
       "      <td>3</td>\n",
       "      <td>ExxonMobil</td>\n",
       "      <td>Petroleum industry</td>\n",
       "      <td>413,680</td>\n",
       "      <td>44.8%</td>\n",
       "      <td>62,000</td>\n",
       "      <td>Spring, Texas</td>\n",
       "    </tr>\n",
       "    <tr>\n",
       "      <th>4</th>\n",
       "      <td>4</td>\n",
       "      <td>Apple</td>\n",
       "      <td>Electronics industry</td>\n",
       "      <td>394,328</td>\n",
       "      <td>7.8%</td>\n",
       "      <td>164,000</td>\n",
       "      <td>Cupertino, California</td>\n",
       "    </tr>\n",
       "    <tr>\n",
       "      <th>...</th>\n",
       "      <td>...</td>\n",
       "      <td>...</td>\n",
       "      <td>...</td>\n",
       "      <td>...</td>\n",
       "      <td>...</td>\n",
       "      <td>...</td>\n",
       "      <td>...</td>\n",
       "    </tr>\n",
       "    <tr>\n",
       "      <th>96</th>\n",
       "      <td>96</td>\n",
       "      <td>Best Buy</td>\n",
       "      <td>Retail</td>\n",
       "      <td>46,298</td>\n",
       "      <td>10.6%</td>\n",
       "      <td>71,100</td>\n",
       "      <td>Richfield, Minnesota</td>\n",
       "    </tr>\n",
       "    <tr>\n",
       "      <th>97</th>\n",
       "      <td>97</td>\n",
       "      <td>Bristol-Myers Squibb</td>\n",
       "      <td>Pharmaceutical industry</td>\n",
       "      <td>46,159</td>\n",
       "      <td>0.5%</td>\n",
       "      <td>34,300</td>\n",
       "      <td>New York City, New York</td>\n",
       "    </tr>\n",
       "    <tr>\n",
       "      <th>98</th>\n",
       "      <td>98</td>\n",
       "      <td>United Airlines</td>\n",
       "      <td>Airline</td>\n",
       "      <td>44,955</td>\n",
       "      <td>82.5%</td>\n",
       "      <td>92,795</td>\n",
       "      <td>Chicago, Illinois</td>\n",
       "    </tr>\n",
       "    <tr>\n",
       "      <th>99</th>\n",
       "      <td>99</td>\n",
       "      <td>Thermo Fisher Scientific</td>\n",
       "      <td>Laboratory instruments</td>\n",
       "      <td>44,915</td>\n",
       "      <td>14.5%</td>\n",
       "      <td>130,000</td>\n",
       "      <td>Waltham, Massachusetts</td>\n",
       "    </tr>\n",
       "    <tr>\n",
       "      <th>100</th>\n",
       "      <td>100</td>\n",
       "      <td>Qualcomm</td>\n",
       "      <td>Technology</td>\n",
       "      <td>44,200</td>\n",
       "      <td>31.7%</td>\n",
       "      <td>51,000</td>\n",
       "      <td>San Diego, California</td>\n",
       "    </tr>\n",
       "  </tbody>\n",
       "</table>\n",
       "<p>101 rows × 7 columns</p>\n",
       "</div>"
      ],
      "text/plain": [
       "       Rank                      Name                    Industry  \\\n",
       "length  100                  Qualcomm                  Technology   \n",
       "1         1                   Walmart                      Retail   \n",
       "2         2                    Amazon  Retail and cloud computing   \n",
       "3         3                ExxonMobil          Petroleum industry   \n",
       "4         4                     Apple        Electronics industry   \n",
       "...     ...                       ...                         ...   \n",
       "96       96                  Best Buy                      Retail   \n",
       "97       97      Bristol-Myers Squibb     Pharmaceutical industry   \n",
       "98       98           United Airlines                     Airline   \n",
       "99       99  Thermo Fisher Scientific      Laboratory instruments   \n",
       "100     100                  Qualcomm                  Technology   \n",
       "\n",
       "       Revenue (USD millions) Revenue growth  Employees  \\\n",
       "length                 44,200          31.7%     51,000   \n",
       "1                     611,289           6.7%  2,100,000   \n",
       "2                     513,983           9.4%  1,540,000   \n",
       "3                     413,680          44.8%     62,000   \n",
       "4                     394,328           7.8%    164,000   \n",
       "...                       ...            ...        ...   \n",
       "96                     46,298          10.6%     71,100   \n",
       "97                     46,159           0.5%     34,300   \n",
       "98                     44,955          82.5%     92,795   \n",
       "99                     44,915          14.5%    130,000   \n",
       "100                    44,200          31.7%     51,000   \n",
       "\n",
       "                   Headquarters  \n",
       "length    San Diego, California  \n",
       "1         Bentonville, Arkansas  \n",
       "2           Seattle, Washington  \n",
       "3                 Spring, Texas  \n",
       "4         Cupertino, California  \n",
       "...                         ...  \n",
       "96         Richfield, Minnesota  \n",
       "97      New York City, New York  \n",
       "98            Chicago, Illinois  \n",
       "99       Waltham, Massachusetts  \n",
       "100       San Diego, California  \n",
       "\n",
       "[101 rows x 7 columns]"
      ]
     },
     "execution_count": 33,
     "metadata": {},
     "output_type": "execute_result"
    }
   ],
   "source": [
    "df"
   ]
  },
  {
   "cell_type": "code",
   "execution_count": 34,
   "id": "d5b8ead1",
   "metadata": {},
   "outputs": [],
   "source": [
    "df.to_csv(r'C:\\Users\\kallzz\\Desktop\\Data Analytics Stuff\\Data Analyst - Boot Camp\\Python - Jupyter Notebooks\\Companies.csv')"
   ]
  },
  {
   "cell_type": "code",
   "execution_count": 36,
   "id": "b6c2ff0a",
   "metadata": {},
   "outputs": [],
   "source": [
    "# to remove index from the data\n",
    "df.to_csv(r'C:\\Users\\kallzz\\Desktop\\Data Analytics Stuff\\Data Analyst - Boot Camp\\Python - Jupyter Notebooks\\Companies.csv', index = False)"
   ]
  },
  {
   "cell_type": "code",
   "execution_count": null,
   "id": "aead06e6",
   "metadata": {},
   "outputs": [],
   "source": []
  }
 ],
 "metadata": {
  "kernelspec": {
   "display_name": "Python 3 (ipykernel)",
   "language": "python",
   "name": "python3"
  },
  "language_info": {
   "codemirror_mode": {
    "name": "ipython",
    "version": 3
   },
   "file_extension": ".py",
   "mimetype": "text/x-python",
   "name": "python",
   "nbconvert_exporter": "python",
   "pygments_lexer": "ipython3",
   "version": "3.10.9"
  }
 },
 "nbformat": 4,
 "nbformat_minor": 5
}
